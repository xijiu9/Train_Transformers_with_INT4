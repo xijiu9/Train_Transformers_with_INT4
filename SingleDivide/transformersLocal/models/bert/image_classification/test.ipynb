{
 "cells": [
  {
   "cell_type": "code",
   "execution_count": null,
   "metadata": {},
   "outputs": [],
   "source": [
    "import torch"
   ]
  },
  {
   "cell_type": "code",
   "execution_count": 1,
   "metadata": {},
   "outputs": [
    {
     "name": "stdout",
     "output_type": "stream",
     "text": [
      "Original Tensor:\n",
      "tensor([ 1.7234, -0.6239,  0.3089, -1.1292,  1.0927])\n",
      "\n",
      "Indices where norm_x < 1:\n",
      "tensor([1, 2, 3])\n"
     ]
    }
   ],
   "source": [
    "import torch\n",
    "\n",
    "# create a 1D tensor\n",
    "norm_x = torch.randn(5)\n",
    "\n",
    "# find indices where norm_x < 1\n",
    "indices = torch.where(norm_x < 1)[0]\n",
    "\n",
    "print(\"Original Tensor:\")\n",
    "print(norm_x)\n",
    "\n",
    "print(\"\\nIndices where norm_x < 1:\")\n",
    "print(indices)"
   ]
  }
 ],
 "metadata": {
  "kernelspec": {
   "display_name": "base",
   "language": "python",
   "name": "python3"
  },
  "language_info": {
   "codemirror_mode": {
    "name": "ipython",
    "version": 3
   },
   "file_extension": ".py",
   "mimetype": "text/x-python",
   "name": "python",
   "nbconvert_exporter": "python",
   "pygments_lexer": "ipython3",
   "version": "3.9.12"
  },
  "orig_nbformat": 4,
  "vscode": {
   "interpreter": {
    "hash": "88279d2366fe020547cde40dd65aa0e3aa662a6ec1f3ca12d88834876c85e1a6"
   }
  }
 },
 "nbformat": 4,
 "nbformat_minor": 2
}
